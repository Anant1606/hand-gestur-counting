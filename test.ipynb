{
 "cells": [
  {
   "cell_type": "code",
   "execution_count": 1,
   "metadata": {},
   "outputs": [
    {
     "name": "stdout",
     "output_type": "stream",
     "text": [
      "Capturing 100 images for gesture '0'\n",
      "Finished capturing images for gesture '0'\n",
      "Capturing 100 images for gesture '1'\n",
      "Finished capturing images for gesture '1'\n",
      "Capturing 100 images for gesture '2'\n",
      "Finished capturing images for gesture '2'\n",
      "Capturing 100 images for gesture '3'\n",
      "Finished capturing images for gesture '3'\n",
      "Capturing 100 images for gesture '4'\n",
      "Finished capturing images for gesture '4'\n",
      "Capturing 100 images for gesture '5'\n",
      "Finished capturing images for gesture '5'\n"
     ]
    }
   ],
   "source": [
    "import cv2\n",
    "import os\n",
    "\n",
    "def capture_images(label, num_images=100):\n",
    "    cap = cv2.VideoCapture(0)\n",
    "    if not cap.isOpened():\n",
    "        print(\"Error: Could not open webcam.\")\n",
    "        return\n",
    "\n",
    "    output_dir = f'dataset/{label}'\n",
    "    os.makedirs(output_dir, exist_ok=True)\n",
    "\n",
    "    print(f\"Capturing {num_images} images for gesture '{label}'\")\n",
    "\n",
    "    count = 0\n",
    "    while count < num_images:\n",
    "        ret, frame = cap.read()\n",
    "        if not ret:\n",
    "            print(\"Error: Failed to capture image.\")\n",
    "            break\n",
    "\n",
    "        gray = cv2.cvtColor(frame, cv2.COLOR_BGR2GRAY)\n",
    "        resized = cv2.resize(gray, (64, 64))\n",
    "\n",
    "        file_path = os.path.join(output_dir, f'{count}.png')\n",
    "        cv2.imwrite(file_path, resized)\n",
    "        \n",
    "        count += 1\n",
    "\n",
    "        cv2.putText(frame, f'Capturing {label}: {count}/{num_images}', (10, 30), cv2.FONT_HERSHEY_SIMPLEX, 1, (0, 255, 0), 2, cv2.LINE_AA)\n",
    "        cv2.imshow('Capture Images', frame)\n",
    "\n",
    "        if cv2.waitKey(1) & 0xFF == 27:  # Press ESC to exit early\n",
    "            break\n",
    "\n",
    "    cap.release()\n",
    "    cv2.destroyAllWindows()\n",
    "    print(f\"Finished capturing images for gesture '{label}'\")\n",
    "\n",
    "if __name__ == \"__main__\":\n",
    "    gestures = ['0', '1', '2', '3', '4', '5']  # Define your gestures\n",
    "    for gesture in gestures:\n",
    "        capture_images(gesture)\n"
   ]
  }
 ],
 "metadata": {
  "kernelspec": {
   "display_name": "Python 3",
   "language": "python",
   "name": "python3"
  },
  "language_info": {
   "codemirror_mode": {
    "name": "ipython",
    "version": 3
   },
   "file_extension": ".py",
   "mimetype": "text/x-python",
   "name": "python",
   "nbconvert_exporter": "python",
   "pygments_lexer": "ipython3",
   "version": "3.12.4"
  }
 },
 "nbformat": 4,
 "nbformat_minor": 2
}
